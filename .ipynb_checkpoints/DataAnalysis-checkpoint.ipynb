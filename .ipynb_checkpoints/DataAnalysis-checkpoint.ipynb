{
 "cells": [
  {
   "cell_type": "code",
   "execution_count": 6,
   "id": "8b245c98-6371-42b9-82e7-ec1116e74b62",
   "metadata": {},
   "outputs": [],
   "source": [
    "from torchvision import transforms, datasets\n",
    "from torch.utils.data import Subset\n",
    "import matplotlib.pyplot as plt"
   ]
  },
  {
   "cell_type": "markdown",
   "id": "d060aeec-c040-45f1-ab5e-82e384809c19",
   "metadata": {},
   "source": [
    "# EMNIST"
   ]
  },
  {
   "cell_type": "code",
   "execution_count": 9,
   "id": "77de99e6-91b0-4d4a-bcc5-78cae6d02cc9",
   "metadata": {},
   "outputs": [
    {
     "name": "stdout",
     "output_type": "stream",
     "text": [
      "Train counts:\n",
      "Label A: 4800 samples\n",
      "Label B: 4800 samples\n",
      "\n",
      "Test counts:\n",
      "Label A: 800 samples\n",
      "Label B: 800 samples\n"
     ]
    },
    {
     "data": {
      "image/png": "[encoded data removed]",
      "text/plain": [
       "<Figure size 1200x300 with 5 Axes>"
      ]
     },
     "metadata": {},
     "output_type": "display_data"
    }
   ],
   "source": [
    "TARGET_CLASSES = [1, 2]\n",
    "img_size = 12\n",
    "transform = transforms.Compose([\n",
    "    transforms.Grayscale(),\n",
    "    transforms.Resize((img_size, img_size)),\n",
    "    transforms.ToTensor()\n",
    "    # transforms.ToTensor(),\n",
    "    # transforms.Normalize((0.5,), (0.5,))\n",
    "])\n",
    "\n",
    "train_dataset = datasets.EMNIST(root='./Emnist', split='letters',train=True, download=True, transform=transform)\n",
    "test_dataset = datasets.EMNIST(root='./Emnist', split='letters',train=False, download=True, transform=transform)\n",
    "\n",
    "def filter_classes(dataset):\n",
    "    indices = [i for i, (_, label) in enumerate(dataset) if label in TARGET_CLASSES]\n",
    "    subset = Subset(dataset, indices)\n",
    "    return subset\n",
    "    \n",
    "train_dataset = filter_classes(train_dataset)\n",
    "test_dataset = filter_classes(test_dataset)\n",
    "\n",
    "# Đếm số lượng theo nhãn\n",
    "def count_labels(subset):\n",
    "    label_counts = {label: 0 for label in TARGET_CLASSES}\n",
    "    for _, label in subset:\n",
    "        label_counts[label] += 1\n",
    "    return label_counts\n",
    "\n",
    "train_counts = count_labels(train_dataset)\n",
    "test_counts = count_labels(test_dataset)\n",
    "\n",
    "# In ra số lượng\n",
    "print(\"Train counts:\")\n",
    "for k, v in train_counts.items():\n",
    "    print(f\"Label {chr(k + 64)}: {v} samples\")  # chr(k + 64): 1 -> A, 2 -> B\n",
    "\n",
    "print(\"\\nTest counts:\")\n",
    "for k, v in test_counts.items():\n",
    "    print(f\"Label {chr(k + 64)}: {v} samples\")\n",
    "\n",
    "# Vẽ một vài ảnh minh họa\n",
    "def plot_samples(subset, title, n=5):\n",
    "    fig, axs = plt.subplots(1, n, figsize=(12, 3))\n",
    "    count = 0\n",
    "    for img, label in subset:\n",
    "        axs[count].imshow(img.squeeze().numpy(), cmap='gray')\n",
    "        axs[count].set_title(f\"Label {chr(label + 64)}\")\n",
    "        axs[count].axis('off')\n",
    "        count += 1\n",
    "        if count == n:\n",
    "            break\n",
    "    plt.suptitle(title)\n",
    "    plt.tight_layout()\n",
    "    plt.show()\n",
    "\n",
    "plot_samples(train_dataset, title=\"Sample from EMNIST (A & B)\")"
   ]
  },
  {
   "cell_type": "markdown",
   "id": "5d820e90-1b00-49d2-adba-7962df36d953",
   "metadata": {},
   "source": [
    "# MNIST"
   ]
  },
  {
   "cell_type": "code",
   "execution_count": 12,
   "id": "ab7c37fb-90e3-4f60-86d0-564b29dd90b5",
   "metadata": {},
   "outputs": [
    {
     "name": "stdout",
     "output_type": "stream",
     "text": [
      "Train counts:\n",
      "Label 0: 5923 samples\n",
      "Label 1: 6742 samples\n",
      "\n",
      "Test counts:\n",
      "Label 0: 980 samples\n",
      "Label 1: 1135 samples\n"
     ]
    },
    {
     "data": {
      "image/png": "[encoded data removed]",
      "text/plain": [
       "<Figure size 1200x300 with 5 Axes>"
      ]
     },
     "metadata": {},
     "output_type": "display_data"
    }
   ],
   "source": [
    "TARGET_CLASSES = [0, 1]\n",
    "img_size = 12\n",
    "transform = transforms.Compose([\n",
    "    transforms.Grayscale(),\n",
    "    transforms.Resize((img_size, img_size)),\n",
    "    transforms.ToTensor()\n",
    "    # transforms.ToTensor(),\n",
    "    # transforms.Normalize((0.5,), (0.5,))\n",
    "])\n",
    "\n",
    "train_dataset = datasets.MNIST(root='./Mnist',train=True, download=True, transform=transform)\n",
    "test_dataset = datasets.MNIST(root='./Mnist',train=False, download=True, transform=transform)\n",
    "\n",
    "# Hàm lọc theo nhãn\n",
    "def filter_classes(dataset):\n",
    "    indices = [i for i, (_, label) in enumerate(dataset) if label in TARGET_CLASSES]\n",
    "    subset = Subset(dataset, indices)\n",
    "    return subset\n",
    "\n",
    "train_dataset = filter_classes(train_dataset)\n",
    "test_dataset = filter_classes(test_dataset)\n",
    "\n",
    "# Thống kê số lượng mẫu\n",
    "def count_labels(subset):\n",
    "    label_counts = {label: 0 for label in TARGET_CLASSES}\n",
    "    for _, label in subset:\n",
    "        label_counts[label] += 1\n",
    "    return label_counts\n",
    "\n",
    "train_counts = count_labels(train_dataset)\n",
    "test_counts = count_labels(test_dataset)\n",
    "\n",
    "# In ra số lượng\n",
    "print(\"Train counts:\")\n",
    "for k, v in train_counts.items():\n",
    "    print(f\"Label {k}: {v} samples\")\n",
    "\n",
    "print(\"\\nTest counts:\")\n",
    "for k, v in test_counts.items():\n",
    "    print(f\"Label {k}: {v} samples\")\n",
    "\n",
    "# Hàm vẽ một vài ảnh minh họa\n",
    "def plot_samples(subset, title, n=5):\n",
    "    fig, axs = plt.subplots(1, n, figsize=(12, 3))\n",
    "    count = 0\n",
    "    for img, label in subset:\n",
    "        axs[count].imshow(img.squeeze().numpy(), cmap='gray')\n",
    "        axs[count].set_title(f\"Label {label}\")\n",
    "        axs[count].axis('off')\n",
    "        count += 1\n",
    "        if count == n:\n",
    "            break\n",
    "    plt.suptitle(title)\n",
    "    plt.tight_layout()\n",
    "    plt.show()\n",
    "\n",
    "plot_samples(train_dataset, title=\"MNIST Samples: Digits 0 and 1\")"
   ]
  },
  {
   "cell_type": "code",
   "execution_count": null,
   "id": "ace0f2cc-87b8-46fb-afac-1449002b286b",
   "metadata": {},
   "outputs": [],
   "source": []
  }
 ],
 "metadata": {
  "kernelspec": {
   "display_name": "Python 3 (ipykernel)",
   "language": "python",
   "name": "python3"
  },
  "language_info": {
   "codemirror_mode": {
    "name": "ipython",
    "version": 3
   },
   "file_extension": ".py",
   "mimetype": "text/x-python",
   "name": "python",
   "nbconvert_exporter": "python",
   "pygments_lexer": "ipython3",
   "version": "3.9.21"
  }
 },
 "nbformat": 4,
 "nbformat_minor": 5
}
